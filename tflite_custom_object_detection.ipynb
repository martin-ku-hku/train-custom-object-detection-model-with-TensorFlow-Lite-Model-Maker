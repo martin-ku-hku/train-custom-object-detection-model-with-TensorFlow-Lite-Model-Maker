{
  "nbformat": 4,
  "nbformat_minor": 0,
  "metadata": {
    "colab": {
      "name": "tflite_custom_object_detection.ipynb",
      "provenance": [],
      "collapsed_sections": []
    },
    "kernelspec": {
      "name": "python3",
      "display_name": "Python 3"
    },
    "language_info": {
      "name": "python"
    }
  },
  "cells": [
    {
      "cell_type": "code",
      "metadata": {
        "id": "ysh1CzNvcbbn"
      },
      "source": [
        "!unzip data.zip"
      ],
      "execution_count": null,
      "outputs": []
    },
    {
      "cell_type": "code",
      "metadata": {
        "id": "ZqdU0_A4emiG"
      },
      "source": [
        "!pip -q install tflite-model-maker\n",
        "!pip -q install pycocotools"
      ],
      "execution_count": null,
      "outputs": []
    },
    {
      "cell_type": "code",
      "metadata": {
        "id": "DNwmeEGldML-"
      },
      "source": [
        "import os\n",
        "import numpy as np\n",
        "import tensorflow as tf\n",
        "\n",
        "from tflite_model_maker.config import ExportFormat\n",
        "from tflite_model_maker import model_spec\n",
        "from tflite_model_maker import object_detector"
      ],
      "execution_count": null,
      "outputs": []
    },
    {
      "cell_type": "code",
      "metadata": {
        "id": "MIrNdTZFdXUP"
      },
      "source": [
        "train_dir = os.path.join('data', 'training')\n",
        "train_image_dir = os.path.join(train_dir, 'images')\n",
        "train_annotation_dir = os.path.join(train_dir, 'annotations')\n",
        "\n",
        "val_dir = os.path.join('data', 'validation')\n",
        "val_image_dir = os.path.join(val_dir, 'images')\n",
        "val_annotation_dir = os.path.join(val_dir, 'annotations')\n",
        "\n",
        "test_dir = os.path.join('data', 'testing')\n",
        "test_image_dir = os.path.join(test_dir, 'images')\n",
        "test_annotation_dir = os.path.join(test_dir, 'annotations')"
      ],
      "execution_count": null,
      "outputs": []
    },
    {
      "cell_type": "code",
      "metadata": {
        "id": "hLM4sw9fhK_C"
      },
      "source": [
        "spec = model_spec.get('efficientdet_lite0')"
      ],
      "execution_count": null,
      "outputs": []
    },
    {
      "cell_type": "code",
      "metadata": {
        "id": "1LIe1_qffu9E"
      },
      "source": [
        "train_data = object_detector.DataLoader.from_pascal_voc(train_image_dir, train_annotation_dir, label_map={1: 'pet'})\n",
        "val_data = object_detector.DataLoader.from_pascal_voc(val_image_dir, val_annotation_dir, label_map={1: 'pet'})\n",
        "test_data = object_detector.DataLoader.from_pascal_voc(test_image_dir, test_annotation_dir, label_map={1: 'pet'})"
      ],
      "execution_count": null,
      "outputs": []
    },
    {
      "cell_type": "code",
      "metadata": {
        "id": "n3pAcg8vgtQH"
      },
      "source": [
        "model = object_detector.create(train_data, model_spec=spec, epochs=50, batch_size=16, train_whole_model=False, validation_data=val_data)"
      ],
      "execution_count": null,
      "outputs": []
    },
    {
      "cell_type": "code",
      "metadata": {
        "id": "hhDALxbDgy3E"
      },
      "source": [
        "model.evaluate(test_data)"
      ],
      "execution_count": null,
      "outputs": []
    },
    {
      "cell_type": "code",
      "metadata": {
        "id": "si-dZ6-plUJy"
      },
      "source": [
        "model.export(export_dir='.')"
      ],
      "execution_count": null,
      "outputs": []
    },
    {
      "cell_type": "code",
      "metadata": {
        "id": "6SCaLR3il72-"
      },
      "source": [
        " !curl https://packages.cloud.google.com/apt/doc/apt-key.gpg | sudo apt-key add -\n",
        " !echo \"deb https://packages.cloud.google.com/apt coral-edgetpu-stable main\" | sudo tee /etc/apt/sources.list.d/coral-edgetpu.list\n",
        " !sudo apt-get update\n",
        " !sudo apt-get install edgetpu-compiler"
      ],
      "execution_count": null,
      "outputs": []
    },
    {
      "cell_type": "code",
      "metadata": {
        "id": "_SmKbWfxSkxH"
      },
      "source": [
        "NUMBER_OF_TPUS =  1\n",
        "\n",
        "!edgetpu_compiler model.tflite --num_segments=$NUMBER_OF_TPUS"
      ],
      "execution_count": null,
      "outputs": []
    },
    {
      "cell_type": "code",
      "metadata": {
        "id": "xrcFxhc7TBMu"
      },
      "source": [
        ""
      ],
      "execution_count": null,
      "outputs": []
    }
  ]
}